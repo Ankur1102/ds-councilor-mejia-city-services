{
 "cells": [
  {
   "cell_type": "markdown",
   "id": "9c6af075-8298-4a1d-9525-0463267234bb",
   "metadata": {},
   "source": [
    "Step One: \n",
    "Understand the geographic areas of the City of Boston based on race, ethnicity, income, and home ownership/renters. Organize this data based on census block groups. \n",
    "\n",
    "Step Two:\n",
    "Align with the client on the criteria for defining equity communities, i.e. communities where funding should be targeted to achieve the city’s equity goals. \n",
    "\n",
    "Step Three:\n",
    "Plot the various data sets (assistance to small businesses, distribution of licenses, etc.) into these various census block groups to see if the funds are being distributed equitably or to those targeted to achieve the city’s equity goals. \n",
    "\n",
    "Step Four: \n",
    "Compile findings and create a report including data visualizations to answer the questions below."
   ]
  },
  {
   "cell_type": "markdown",
   "id": "5ea1528f-6756-4010-a34f-65d1983d51f1",
   "metadata": {},
   "source": [
    "- The geographical distribution of different races"
   ]
  },
  {
   "cell_type": "code",
   "execution_count": 17,
   "id": "0aabe741-80de-4380-a18e-c361a109fae8",
   "metadata": {},
   "outputs": [],
   "source": []
  },
  {
   "cell_type": "code",
   "execution_count": 259,
   "id": "29ae4409-aedf-43d4-84bd-afa43482e148",
   "metadata": {},
   "outputs": [],
   "source": [
    "import pandas as pd\n",
    "import matplotlib.pyplot as plt\n",
    "\n",
    "df = pd.read_csv('boston-neighborhood-data.csv')"
   ]
  },
  {
   "cell_type": "code",
   "execution_count": 260,
   "id": "52239316-9141-456c-81ce-9d4e10b04389",
   "metadata": {},
   "outputs": [],
   "source": [
    "col = df.loc[0].values.tolist()\n",
    "#print(col)"
   ]
  },
  {
   "cell_type": "code",
   "execution_count": 261,
   "id": "35fc2dfc-a3aa-41df-b51f-472cf2f63902",
   "metadata": {},
   "outputs": [],
   "source": [
    "area_df = pd.DataFrame()\n",
    "area_df['area'] = df['nbhd']\n",
    "area_df = area_df[1:]\n",
    "\n",
    "i = df.columns.get_loc('P0020005')\n",
    "j = df.columns.get_loc('P002others')\n",
    "race_df = df[df.columns[i:j + 1]]\n",
    "race_df = race_df[1:]\n",
    "\n",
    "col = df.loc[0][i:j + 1].values.tolist()\n",
    "race_df.columns = col\n",
    "area_df = pd.concat([area_df, race_df.reindex(area_df.index)], axis=1)"
   ]
  },
  {
   "cell_type": "code",
   "execution_count": 262,
   "id": "298a28b7-7716-4bb0-ba68-1ba57bd7cf9f",
   "metadata": {},
   "outputs": [
    {
     "data": {
      "image/png": "[encoded data removed]",
      "text/plain": [
       "<Figure size 432x288 with 1 Axes>"
      ]
     },
     "metadata": {
      "needs_background": "light"
     },
     "output_type": "display_data"
    }
   ],
   "source": [
    "x = col\n",
    "y = area_df.mean()\n",
    "\n",
    "plt.xticks(range(len(x)), x)\n",
    "plt.xticks(rotation=30)\n",
    "#plt.yticks(y)\n",
    "\n",
    "plt.xlabel(\"Races\")\n",
    "plt.ylabel(\"Populations\")\n",
    "plt.title(\"Populations of different races in boston\")\n",
    "\n",
    "plt.plot(x, y)\n",
    "plt.show()"
   ]
  },
  {
   "cell_type": "code",
   "execution_count": 264,
   "id": "6a2b5aac-abc2-40ba-831e-d7233a15ae32",
   "metadata": {},
   "outputs": [
    {
     "name": "stdout",
     "output_type": "stream",
     "text": [
      "                       area White alone Black or African American alone  \\\n",
      "1                   Allston       14634                            1451   \n",
      "2                  Back Bay       14056                             718   \n",
      "3               Beacon Hill        7521                             252   \n",
      "4                  Brighton       30596                            2289   \n",
      "5               Charlestown       13626                             990   \n",
      "6                 Chinatown        1898                             297   \n",
      "7                Dorchester       27411                           42714   \n",
      "8                  Downtown        9174                             537   \n",
      "9               East Boston       15760                            1403   \n",
      "10                   Fenway       20456                            2396   \n",
      "11                Hyde Park        7449                           15171   \n",
      "12            Jamaica Plain       22032                            4686   \n",
      "13                 Longwood        2573                             334   \n",
      "14                 Mattapan        1489                           16277   \n",
      "15             Mission Hill        6950                            2469   \n",
      "16                North End        9306                             141   \n",
      "17               Roslindale       13428                            6045   \n",
      "18                  Roxbury        7182                           22796   \n",
      "19             South Boston       29139                            1529   \n",
      "20  South Boston Waterfront        4315                             160   \n",
      "21                South End       16618                            2959   \n",
      "22                 West End        4933                             338   \n",
      "23             West Roxbury       20918                            3312   \n",
      "\n",
      "   Hispanic or Latino  \\\n",
      "1                3657   \n",
      "2                1326   \n",
      "3                 537   \n",
      "4                4978   \n",
      "5                2075   \n",
      "6                 477   \n",
      "7               25285   \n",
      "8                 961   \n",
      "9               21700   \n",
      "10               3643   \n",
      "11               7901   \n",
      "12               8921   \n",
      "13                381   \n",
      "14               4079   \n",
      "15               3397   \n",
      "16                528   \n",
      "17               7373   \n",
      "18              16728   \n",
      "19               3887   \n",
      "20                316   \n",
      "21               3783   \n",
      "22                613   \n",
      "23               3567   \n",
      "\n",
      "   Asian, Native Hawaiian and Pacific Islander alone, all ages  \\\n",
      "1                                                7173            \n",
      "2                                                2604            \n",
      "3                                                 630            \n",
      "4                                                7801            \n",
      "5                                                1650            \n",
      "6                                                4281            \n",
      "7                                               13360            \n",
      "8                                                2286            \n",
      "9                                                1932            \n",
      "10                                               9218            \n",
      "11                                                677            \n",
      "12                                               2985            \n",
      "13                                                657            \n",
      "14                                                490            \n",
      "15                                               4228            \n",
      "16                                                445            \n",
      "17                                               1018            \n",
      "18                                               3277            \n",
      "19                                               2077            \n",
      "20                                                482            \n",
      "21                                               4677            \n",
      "22                                               1440            \n",
      "23                                               2451            \n",
      "\n",
      "   Other Races or Multiple Races,  all ages  \n",
      "1                                      1706  \n",
      "2                                       884  \n",
      "3                                       396  \n",
      "4                                      2666  \n",
      "5                                       779  \n",
      "6                                       190  \n",
      "7                                     13421  \n",
      "8                                       493  \n",
      "9                                      2271  \n",
      "10                                     2020  \n",
      "11                                     1811  \n",
      "12                                     2388  \n",
      "13                                      151  \n",
      "14                                     1499  \n",
      "15                                      842  \n",
      "16                                      385  \n",
      "17                                     1522  \n",
      "18                                     4922  \n",
      "19                                     1285  \n",
      "20                                      306  \n",
      "21                                     1336  \n",
      "22                                      381  \n",
      "23                                     1313  \n"
     ]
    }
   ],
   "source": [
    "a = area_df[area_df.columns.drop('area')].reset_index()\n",
    "\n",
    "    \n",
    "#a = a.max(axis=1)\n",
    "\n",
    "#b = area_df[area_df.columns[1:]]\n",
    "#print(b)\n",
    "#b = b.max(axis=1)\n",
    "#print(area_df.head())\n",
    "#print(a)\n",
    "print(area_df)\n",
    "\n"
   ]
  },
  {
   "cell_type": "code",
   "execution_count": null,
   "id": "3ab0f06b-e3d3-4cca-bb5f-fed2075ae7cc",
   "metadata": {},
   "outputs": [],
   "source": []
  }
 ],
 "metadata": {
  "kernelspec": {
   "display_name": "Python 3",
   "language": "python",
   "name": "python3"
  },
  "language_info": {
   "codemirror_mode": {
    "name": "ipython",
    "version": 3
   },
   "file_extension": ".py",
   "mimetype": "text/x-python",
   "name": "python",
   "nbconvert_exporter": "python",
   "pygments_lexer": "ipython3",
   "version": "3.8.8"
  }
 },
 "nbformat": 4,
 "nbformat_minor": 5
}
